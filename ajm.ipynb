{
 "cells": [
  {
   "cell_type": "code",
   "execution_count": 1,
   "metadata": {},
   "outputs": [
    {
     "name": "stdout",
     "output_type": "stream",
     "text": [
      "Collecting pykan\n",
      "  Downloading pykan-0.2.8-py3-none-any.whl.metadata (11 kB)\n",
      "Downloading pykan-0.2.8-py3-none-any.whl (78 kB)\n",
      "Installing collected packages: pykan\n",
      "Successfully installed pykan-0.2.8\n"
     ]
    }
   ],
   "source": [
    "!pip install pykan"
   ]
  },
  {
   "cell_type": "code",
   "execution_count": null,
   "metadata": {},
   "outputs": [],
   "source": []
  }
 ],
 "metadata": {
  "language_info": {
   "name": "python"
  }
 },
 "nbformat": 4,
 "nbformat_minor": 2
}
